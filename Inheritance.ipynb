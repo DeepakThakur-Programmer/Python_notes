{
 "cells": [
  {
   "cell_type": "code",
   "execution_count": 1,
   "id": "f23d3cb8",
   "metadata": {},
   "outputs": [
    {
     "name": "stdout",
     "output_type": "stream",
     "text": [
      "abc 23\n",
      "34\n"
     ]
    }
   ],
   "source": [
    "class student:\n",
    "    def info(self,name,age):\n",
    "        print(name,age)\n",
    "        \n",
    "class ram(student):\n",
    "    def details(self,marks):\n",
    "        print(marks)\n",
    "        \n",
    "x = ram()\n",
    "x.info('abc',23)\n",
    "x.details(34)"
   ]
  },
  {
   "cell_type": "code",
   "execution_count": 2,
   "id": "3dee19ca",
   "metadata": {},
   "outputs": [
    {
     "name": "stdout",
     "output_type": "stream",
     "text": [
      "1 2\n",
      "27\n"
     ]
    }
   ],
   "source": [
    "class A:\n",
    "    def info(self,name,age):\n",
    "        print(name, age)\n",
    "class B(A):\n",
    "    def details (self,height):\n",
    "        print(height)\n",
    "a1= B()\n",
    "a1.info(1,2)\n",
    "a1.details(27)"
   ]
  },
  {
   "cell_type": "code",
   "execution_count": 3,
   "id": "403293d9",
   "metadata": {},
   "outputs": [
    {
     "name": "stdout",
     "output_type": "stream",
     "text": [
      "ghghgf 78\n"
     ]
    }
   ],
   "source": [
    "a1.info('ghghgf',78)"
   ]
  },
  {
   "cell_type": "code",
   "execution_count": 4,
   "id": "b97e7ec4",
   "metadata": {},
   "outputs": [
    {
     "name": "stdout",
     "output_type": "stream",
     "text": [
      "aman 17 67\n"
     ]
    }
   ],
   "source": [
    "class student:\n",
    "    def __init__(self,name,age):\n",
    "        self.name=name\n",
    "        self.age=age\n",
    "\n",
    "\n",
    "class info(student):\n",
    "    def __init__(self,name,age,marks):\n",
    "        super().__init__(name,age)\n",
    "        self.marks=marks\n",
    "\n",
    "a=info(\"aman\",17,67)\n",
    "print(a.name,a.age,a.marks)"
   ]
  },
  {
   "cell_type": "code",
   "execution_count": 5,
   "id": "cf4c702d",
   "metadata": {},
   "outputs": [
    {
     "data": {
      "text/plain": [
       "'xyz'"
      ]
     },
     "execution_count": 5,
     "metadata": {},
     "output_type": "execute_result"
    }
   ],
   "source": [
    "b= info('xyz',34,100)\n",
    "b.name"
   ]
  },
  {
   "cell_type": "code",
   "execution_count": 6,
   "id": "3170a04e",
   "metadata": {},
   "outputs": [
    {
     "name": "stdout",
     "output_type": "stream",
     "text": [
      "Name----> abc Age----> 23\n",
      "Marks----> 34\n",
      "Price is ----> 23\n"
     ]
    }
   ],
   "source": [
    "class student:\n",
    "    def info(self,name,age):\n",
    "        print(\"Name---->\",name,\"Age---->\",age)\n",
    "        \n",
    "class ram(student):\n",
    "    def details(self,marks):\n",
    "        print(\"Marks---->\",marks)\n",
    "        \n",
    "class car(ram):\n",
    "    def info2(self,price):\n",
    "        print(\"Price is ---->\",price)\n",
    "        \n",
    "x = car()\n",
    "x.info('abc',23)\n",
    "x.details(34)\n",
    "x.info2(23)"
   ]
  },
  {
   "cell_type": "code",
   "execution_count": 7,
   "id": "22b62592",
   "metadata": {},
   "outputs": [
    {
     "name": "stdout",
     "output_type": "stream",
     "text": [
      "1\n",
      "2\n"
     ]
    },
    {
     "data": {
      "text/plain": [
       "5"
      ]
     },
     "execution_count": 7,
     "metadata": {},
     "output_type": "execute_result"
    }
   ],
   "source": [
    "class A:\n",
    "    def __init__(self,name,age):\n",
    "        self.name=name\n",
    "        self.age=age\n",
    "class B(A):\n",
    "    def __init__(self,name,age,height):\n",
    "        super().__init__(name,age)\n",
    "        self.height=height\n",
    "\n",
    "class C(B):\n",
    "    def __init__(self,name,age,height,marks):\n",
    "        super().__init__(name,age,height)\n",
    "        self.marks=marks\n",
    "a2=C(1,2,4,5)\n",
    "print(a2.name)\n",
    "print(a2.age)\n",
    "a2.height\n",
    "a2.marks"
   ]
  },
  {
   "cell_type": "code",
   "execution_count": 8,
   "id": "c23bf114",
   "metadata": {},
   "outputs": [
    {
     "name": "stdout",
     "output_type": "stream",
     "text": [
      "aman 17 77 2300\n"
     ]
    }
   ],
   "source": [
    "class student:\n",
    "    def __init__(self,name,age):\n",
    "        self.name=name\n",
    "        self.age=age\n",
    "class info(student):\n",
    "        def __init__ (self,name,age,marks):\n",
    "            super().__init__(name,age)\n",
    "            self.marks=marks\n",
    "\n",
    "class info2(info):\n",
    "    def __init__(self,name,age,marks,price):\n",
    "        super().__init__(name,age,marks)\n",
    "        self.price = price\n",
    "\n",
    "\n",
    "\n",
    "a=info2(\"aman\",17,77,2300)\n",
    "print(a.name,a.age,a.marks,a.price)"
   ]
  },
  {
   "cell_type": "code",
   "execution_count": null,
   "id": "1e09676c",
   "metadata": {},
   "outputs": [],
   "source": []
  }
 ],
 "metadata": {
  "kernelspec": {
   "display_name": "Python 3 (ipykernel)",
   "language": "python",
   "name": "python3"
  },
  "language_info": {
   "codemirror_mode": {
    "name": "ipython",
    "version": 3
   },
   "file_extension": ".py",
   "mimetype": "text/x-python",
   "name": "python",
   "nbconvert_exporter": "python",
   "pygments_lexer": "ipython3",
   "version": "3.9.7"
  }
 },
 "nbformat": 4,
 "nbformat_minor": 5
}
