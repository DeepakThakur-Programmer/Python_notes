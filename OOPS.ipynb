{
 "cells": [
  {
   "cell_type": "code",
   "execution_count": 1,
   "id": "45356b21",
   "metadata": {},
   "outputs": [
    {
     "name": "stdout",
     "output_type": "stream",
     "text": [
      "xyz\n",
      "22\n"
     ]
    }
   ],
   "source": [
    "#oops\n",
    "# 4pillars\n",
    "# 1 inheritance\n",
    "# 2 encapsulation\n",
    "# 3 abstraction\n",
    "# 4 polymorphism\n",
    "\n",
    "\n",
    "# class ---->blue print of object\n",
    "# object---->Real world entity\n",
    "\n",
    "class student:\n",
    "    def details(self,name,age):\n",
    "        print(name)\n",
    "        print(age)\n",
    "        \n",
    "stu = student()\n",
    "stu.details('xyz',22)"
   ]
  },
  {
   "cell_type": "code",
   "execution_count": 2,
   "id": "2e3541d2",
   "metadata": {},
   "outputs": [
    {
     "data": {
      "text/plain": [
       "22"
      ]
     },
     "execution_count": 2,
     "metadata": {},
     "output_type": "execute_result"
    }
   ],
   "source": [
    "#constructor\n",
    "class student:\n",
    "    def __init__(self,name,age,marks):\n",
    "        self.name=name\n",
    "        self.age=age\n",
    "        self.marks = marks\n",
    "        \n",
    "x = student('xyz',22,56)\n",
    "x.name\n",
    "x.marks\n",
    "x.age\n",
    "    \n",
    "    "
   ]
  },
  {
   "cell_type": "code",
   "execution_count": 3,
   "id": "c9b420c4",
   "metadata": {},
   "outputs": [],
   "source": [
    "#wap and make a class of emp having \n",
    "# 3 properties---->name,dept,salary\n",
    "# with the help of object try to \n",
    "# obtain its output."
   ]
  },
  {
   "cell_type": "code",
   "execution_count": 4,
   "id": "efc01662",
   "metadata": {},
   "outputs": [
    {
     "name": "stdout",
     "output_type": "stream",
     "text": [
      "xyz\n",
      "blue\n",
      "20\n"
     ]
    }
   ],
   "source": [
    "#inheritance\n",
    "class car1:\n",
    "    def info(self,name,color):\n",
    "        print(name)\n",
    "        print(color)\n",
    "        \n",
    "class car2(car1):\n",
    "    def info2(self,price):\n",
    "        print(price)\n",
    "        \n",
    "c = car2()\n",
    "c.info('xyz','blue')\n",
    "c.info2(20)"
   ]
  },
  {
   "cell_type": "code",
   "execution_count": 5,
   "id": "ccfa2d75",
   "metadata": {},
   "outputs": [
    {
     "data": {
      "text/plain": [
       "('a', 'black', 23)"
      ]
     },
     "execution_count": 5,
     "metadata": {},
     "output_type": "execute_result"
    }
   ],
   "source": [
    "class car1:\n",
    "    def __init__(self,name,color):\n",
    "        self.name=name\n",
    "        self.color=color\n",
    "        \n",
    "class car2(car1):\n",
    "    def __init__(self,name,color,price):\n",
    "        super().__init__(name,color)\n",
    "        self.price=price\n",
    "\n",
    "c = car2('a','black',23)\n",
    "c.name,c.color,c.price"
   ]
  },
  {
   "cell_type": "code",
   "execution_count": 6,
   "id": "bb106c50",
   "metadata": {},
   "outputs": [
    {
     "data": {
      "text/plain": [
       "(1, 3)"
      ]
     },
     "execution_count": 6,
     "metadata": {},
     "output_type": "execute_result"
    }
   ],
   "source": [
    "#wap to make 2 different class \n",
    "# and inherit\n",
    "# their properties\n",
    "class abc():\n",
    "    def __init__(self,a,b):\n",
    "        self.a=a\n",
    "        self.b=b\n",
    "class qaz (abc):\n",
    "    def __init__(self,a,b,c,d):\n",
    "        super().__init__(a,b)\n",
    "        self.c=c\n",
    "        self.d=d\n",
    "x=qaz(1,2,3,4)\n",
    "x.a,x.c"
   ]
  },
  {
   "cell_type": "code",
   "execution_count": 7,
   "id": "4b5eb3a2",
   "metadata": {},
   "outputs": [
    {
     "data": {
      "text/plain": [
       "'coding'"
      ]
     },
     "execution_count": 7,
     "metadata": {},
     "output_type": "execute_result"
    }
   ],
   "source": [
    "#multi level inheritance\n",
    "class abc():\n",
    "    def __init__(self,a,b):\n",
    "        self.a=a\n",
    "        self.b=b \n",
    "        \n",
    "class qaz (abc):\n",
    "      def __init__(self,a,b,c,d):\n",
    "        super(). __init__(a,b)\n",
    "        self.c=c\n",
    "        self.d=d\n",
    "        \n",
    "class wer(qaz):\n",
    "    def __init__(self,a,b,c,d,e,f):\n",
    "        super(). __init__(a,b,c,d)\n",
    "        self.e=e\n",
    "        self.f=f\n",
    "        \n",
    "        \n",
    "x=wer(1,2,3,4,'python','coding')\n",
    "x.f"
   ]
  },
  {
   "cell_type": "code",
   "execution_count": null,
   "id": "afdfe135",
   "metadata": {},
   "outputs": [],
   "source": []
  }
 ],
 "metadata": {
  "kernelspec": {
   "display_name": "Python 3 (ipykernel)",
   "language": "python",
   "name": "python3"
  },
  "language_info": {
   "codemirror_mode": {
    "name": "ipython",
    "version": 3
   },
   "file_extension": ".py",
   "mimetype": "text/x-python",
   "name": "python",
   "nbconvert_exporter": "python",
   "pygments_lexer": "ipython3",
   "version": "3.9.7"
  }
 },
 "nbformat": 4,
 "nbformat_minor": 5
}
